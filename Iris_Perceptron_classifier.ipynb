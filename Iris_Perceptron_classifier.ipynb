{
 "cells": [
  {
   "cell_type": "markdown",
   "id": "disabled-noise",
   "metadata": {},
   "source": [
    "# Training Perceptron with Iris dataset"
   ]
  },
  {
   "cell_type": "code",
   "execution_count": 1,
   "id": "controversial-ministry",
   "metadata": {},
   "outputs": [],
   "source": [
    "import numpy as np\n",
    "import pandas as pd\n",
    "import matplotlib.pyplot as plt"
   ]
  },
  {
   "cell_type": "code",
   "execution_count": 2,
   "id": "vocal-cabinet",
   "metadata": {},
   "outputs": [],
   "source": [
    "# Importing Iris.csv\n",
    "df = pd.read_csv('http://archive.ics.uci.edu/ml/machine-learning-databases/iris/iris.data',\n",
    "                 header=None)"
   ]
  },
  {
   "cell_type": "code",
   "execution_count": 3,
   "id": "injured-parameter",
   "metadata": {},
   "outputs": [
    {
     "data": {
      "text/html": [
       "<div>\n",
       "<style scoped>\n",
       "    .dataframe tbody tr th:only-of-type {\n",
       "        vertical-align: middle;\n",
       "    }\n",
       "\n",
       "    .dataframe tbody tr th {\n",
       "        vertical-align: top;\n",
       "    }\n",
       "\n",
       "    .dataframe thead th {\n",
       "        text-align: right;\n",
       "    }\n",
       "</style>\n",
       "<table border=\"1\" class=\"dataframe\">\n",
       "  <thead>\n",
       "    <tr style=\"text-align: right;\">\n",
       "      <th></th>\n",
       "      <th>0</th>\n",
       "      <th>1</th>\n",
       "      <th>2</th>\n",
       "      <th>3</th>\n",
       "      <th>4</th>\n",
       "    </tr>\n",
       "  </thead>\n",
       "  <tbody>\n",
       "    <tr>\n",
       "      <th>0</th>\n",
       "      <td>5.1</td>\n",
       "      <td>3.5</td>\n",
       "      <td>1.4</td>\n",
       "      <td>0.2</td>\n",
       "      <td>Iris-setosa</td>\n",
       "    </tr>\n",
       "    <tr>\n",
       "      <th>1</th>\n",
       "      <td>4.9</td>\n",
       "      <td>3.0</td>\n",
       "      <td>1.4</td>\n",
       "      <td>0.2</td>\n",
       "      <td>Iris-setosa</td>\n",
       "    </tr>\n",
       "    <tr>\n",
       "      <th>2</th>\n",
       "      <td>4.7</td>\n",
       "      <td>3.2</td>\n",
       "      <td>1.3</td>\n",
       "      <td>0.2</td>\n",
       "      <td>Iris-setosa</td>\n",
       "    </tr>\n",
       "    <tr>\n",
       "      <th>3</th>\n",
       "      <td>4.6</td>\n",
       "      <td>3.1</td>\n",
       "      <td>1.5</td>\n",
       "      <td>0.2</td>\n",
       "      <td>Iris-setosa</td>\n",
       "    </tr>\n",
       "    <tr>\n",
       "      <th>4</th>\n",
       "      <td>5.0</td>\n",
       "      <td>3.6</td>\n",
       "      <td>1.4</td>\n",
       "      <td>0.2</td>\n",
       "      <td>Iris-setosa</td>\n",
       "    </tr>\n",
       "  </tbody>\n",
       "</table>\n",
       "</div>"
      ],
      "text/plain": [
       "     0    1    2    3            4\n",
       "0  5.1  3.5  1.4  0.2  Iris-setosa\n",
       "1  4.9  3.0  1.4  0.2  Iris-setosa\n",
       "2  4.7  3.2  1.3  0.2  Iris-setosa\n",
       "3  4.6  3.1  1.5  0.2  Iris-setosa\n",
       "4  5.0  3.6  1.4  0.2  Iris-setosa"
      ]
     },
     "execution_count": 3,
     "metadata": {},
     "output_type": "execute_result"
    }
   ],
   "source": [
    "# Show data\n",
    "df.head()"
   ]
  },
  {
   "cell_type": "code",
   "execution_count": 4,
   "id": "associate-difficulty",
   "metadata": {},
   "outputs": [],
   "source": [
    "# Slicing dataset, getting rid of Iris-virginica label\n",
    "df = df[:99]\n",
    "# Renaming columns\n",
    "df.columns = ['Sepal lenght', 'Sepal width', 'Petal lenght', 'Petal width', 'Variety']"
   ]
  },
  {
   "cell_type": "code",
   "execution_count": 5,
   "id": "employed-graphics",
   "metadata": {},
   "outputs": [
    {
     "data": {
      "text/html": [
       "<div>\n",
       "<style scoped>\n",
       "    .dataframe tbody tr th:only-of-type {\n",
       "        vertical-align: middle;\n",
       "    }\n",
       "\n",
       "    .dataframe tbody tr th {\n",
       "        vertical-align: top;\n",
       "    }\n",
       "\n",
       "    .dataframe thead th {\n",
       "        text-align: right;\n",
       "    }\n",
       "</style>\n",
       "<table border=\"1\" class=\"dataframe\">\n",
       "  <thead>\n",
       "    <tr style=\"text-align: right;\">\n",
       "      <th></th>\n",
       "      <th>Sepal lenght</th>\n",
       "      <th>Sepal width</th>\n",
       "      <th>Petal lenght</th>\n",
       "      <th>Petal width</th>\n",
       "      <th>Variety</th>\n",
       "    </tr>\n",
       "  </thead>\n",
       "  <tbody>\n",
       "    <tr>\n",
       "      <th>94</th>\n",
       "      <td>5.6</td>\n",
       "      <td>2.7</td>\n",
       "      <td>4.2</td>\n",
       "      <td>1.3</td>\n",
       "      <td>Iris-versicolor</td>\n",
       "    </tr>\n",
       "    <tr>\n",
       "      <th>95</th>\n",
       "      <td>5.7</td>\n",
       "      <td>3.0</td>\n",
       "      <td>4.2</td>\n",
       "      <td>1.2</td>\n",
       "      <td>Iris-versicolor</td>\n",
       "    </tr>\n",
       "    <tr>\n",
       "      <th>96</th>\n",
       "      <td>5.7</td>\n",
       "      <td>2.9</td>\n",
       "      <td>4.2</td>\n",
       "      <td>1.3</td>\n",
       "      <td>Iris-versicolor</td>\n",
       "    </tr>\n",
       "    <tr>\n",
       "      <th>97</th>\n",
       "      <td>6.2</td>\n",
       "      <td>2.9</td>\n",
       "      <td>4.3</td>\n",
       "      <td>1.3</td>\n",
       "      <td>Iris-versicolor</td>\n",
       "    </tr>\n",
       "    <tr>\n",
       "      <th>98</th>\n",
       "      <td>5.1</td>\n",
       "      <td>2.5</td>\n",
       "      <td>3.0</td>\n",
       "      <td>1.1</td>\n",
       "      <td>Iris-versicolor</td>\n",
       "    </tr>\n",
       "  </tbody>\n",
       "</table>\n",
       "</div>"
      ],
      "text/plain": [
       "    Sepal lenght  Sepal width  Petal lenght  Petal width          Variety\n",
       "94           5.6          2.7           4.2          1.3  Iris-versicolor\n",
       "95           5.7          3.0           4.2          1.2  Iris-versicolor\n",
       "96           5.7          2.9           4.2          1.3  Iris-versicolor\n",
       "97           6.2          2.9           4.3          1.3  Iris-versicolor\n",
       "98           5.1          2.5           3.0          1.1  Iris-versicolor"
      ]
     },
     "execution_count": 5,
     "metadata": {},
     "output_type": "execute_result"
    }
   ],
   "source": [
    "df.tail()"
   ]
  },
  {
   "cell_type": "code",
   "execution_count": 104,
   "id": "united-toddler",
   "metadata": {},
   "outputs": [
    {
     "data": {
      "image/png": "[encoded data removed]",
      "text/plain": [
       "<Figure size 432x288 with 1 Axes>"
      ]
     },
     "metadata": {
      "needs_background": "light"
     },
     "output_type": "display_data"
    }
   ],
   "source": [
    "# Ploting the two groups of data classified by variety:\n",
    "    # 'Iris-setosa': 'red'\n",
    "    # 'Iris-versicolor': 'green'\n",
    "df.plot(kind='scatter', x='Sepal lenght', y='Petal lenght', \n",
    "        color=np.where(df['Variety']=='Iris-setosa','r', 'g'),\n",
    "        xlabel='Sepal lenght [cm]', ylabel='petal lenght [cm]', marker='x');"
   ]
  },
  {
   "cell_type": "markdown",
   "id": "broadband-calibration",
   "metadata": {},
   "source": [
    "## Developing a perceptron model which can classify flowers\n",
    "- We will be using 'Sepal lenght' and 'Petal lenght' as inputs\n",
    "- We will expect the right 'Variety' as output\n",
    "- The model activation function will be 'sigmoid(x)'\n",
    "- Outputs will be between 0 and 1, so we have to convert 'Variety' to this codification"
   ]
  },
  {
   "cell_type": "code",
   "execution_count": 7,
   "id": "reasonable-fraud",
   "metadata": {},
   "outputs": [],
   "source": [
    "# Defining inputs\n",
    "X = np.array([df['Sepal lenght'], df['Petal lenght']]).T\n",
    "# Defining outputs. We will convert 'Iris-setosa' to 0 and 'Iris versicolor' to 1\n",
    "y = np.array([df['Variety']]).T\n",
    "y = np.where(y=='Iris-setosa',0,1)\n"
   ]
  },
  {
   "cell_type": "code",
   "execution_count": 8,
   "id": "liable-organizer",
   "metadata": {},
   "outputs": [],
   "source": [
    "class Perceptron:\n",
    "    def __init__(self):\n",
    "        pass\n",
    "    \n",
    "    def d_sigmoid(self,X):\n",
    "        return self.sigmoid(X) * (1 - self.sigmoid(X))\n",
    "    \n",
    "    def sigmoid(self,X):\n",
    "        return 1 / (1 + np.exp(-X))\n",
    "    \n",
    "    def predict(self,X):\n",
    "        summation = np.dot(X, self.weights) + self.bias\n",
    "        activation = self.sigmoid(summation)\n",
    "        return activation\n",
    "    \n",
    "    def train(self,X,y,n_iter=5,learn_rate=0.1):\n",
    "        # Defining weights and bias\n",
    "        size = np.shape(X)[1]\n",
    "        np.random.seed(1)\n",
    "        self.weights = np.random.rand(1,size).T\n",
    "        self.bias = np.random.rand(1)\n",
    "        # Saving historic weights and bias && historic error\n",
    "        self.hist = np.concatenate((self.weights[:,0],self.bias),axis=0)\n",
    "        self.hist_error = []\n",
    "        # Model fitting\n",
    "        for _ in range(n_iter):\n",
    "            z = self.predict(X)\n",
    "            error = y - z\n",
    "            self.hist_error.append(np.mean(error))\n",
    "            # Multipliying np.arrays like this: [a,b,c]*[d,e,f] = [a*d, b*e, c*f]\n",
    "            activated_error = error * self.d_sigmoid(z)\n",
    "            # Updating weights and bias\n",
    "            self.weights += np.array([np.mean(X * activated_error, axis=0)]).T * learn_rate\n",
    "            self.bias += np.mean(activated_error) * learn_rate\n",
    "            # Storing historic\n",
    "            new_data= np.concatenate((self.weights[:,0],self.bias),axis=0)\n",
    "            self.hist = np.vstack((self.hist,new_data))"
   ]
  },
  {
   "cell_type": "code",
   "execution_count": 9,
   "id": "warming-founder",
   "metadata": {},
   "outputs": [],
   "source": [
    "# Training the model 100 times with a learning factor of 0.2\n",
    "perceptron = Perceptron()\n",
    "perceptron.train(X,y,20,0.2)"
   ]
  },
  {
   "cell_type": "markdown",
   "id": "fleet-minister",
   "metadata": {},
   "source": [
    "### Plotting weight and error evolution"
   ]
  },
  {
   "cell_type": "code",
   "execution_count": 110,
   "id": "optional-prerequisite",
   "metadata": {},
   "outputs": [
    {
     "data": {
      "image/png": "[encoded data removed]",
      "text/plain": [
       "<Figure size 576x360 with 1 Axes>"
      ]
     },
     "metadata": {
      "needs_background": "light"
     },
     "output_type": "display_data"
    }
   ],
   "source": [
    "data = perceptron.hist\n",
    "error = perceptron.hist_error\n",
    "plt.figure(figsize=(8,5))\n",
    "plt.plot(range(len(data)), data[:,0], color='r', label='Weight 1')\n",
    "plt.plot(range(len(data)), data[:,1], color='g', label='Weight 2')\n",
    "plt.plot(range(len(data)), data[:,2], color='blue', label='Bias')\n",
    "plt.plot(range(1,len(error)+1), error, color='black', label='Error')\n",
    "plt.grid(True)\n",
    "plt.legend(loc='upper right')\n",
    "plt.show();"
   ]
  },
  {
   "cell_type": "markdown",
   "id": "apart-moscow",
   "metadata": {},
   "source": [
    "### Visualizing desidion boundaries for two labels"
   ]
  },
  {
   "cell_type": "code",
   "execution_count": 91,
   "id": "dangerous-origin",
   "metadata": {},
   "outputs": [],
   "source": [
    "from matplotlib.colors import ListedColormap\n",
    "def plot_decision_regions(X, y, classifier, resolution=0.02):\n",
    "    # setup marker generator and color map\n",
    "    markers = ('s', 'x', 'o', '^', 'v')\n",
    "    colors = ('red', 'blue', 'lightgreen', 'gray', 'cyan')\n",
    "    cmap = ListedColormap(colors[:len(np.unique(y))])\n",
    "    # plot the decision surface\n",
    "    x1_min, x1_max = X[:, 0].min() - 1, X[:, 0].max() + 1\n",
    "    x2_min, x2_max = X[:, 1].min() - 1, X[:, 1].max() + 1\n",
    "    xx1, xx2 = np.meshgrid(np.arange(x1_min, x1_max, resolution),\n",
    "    np.arange(x2_min, x2_max, resolution))\n",
    "    # Meshgrid() + ravel() is the equivalent of 2 for loop to cover a 2D grid \n",
    "    Z = classifier.predict(np.array([xx1.ravel(), xx2.ravel()]).T)\n",
    "    Z = Z.reshape(xx1.shape)\n",
    "    plt.contourf(xx1, xx2, Z, alpha=0.3, cmap=cmap)\n",
    "    plt.xlim(xx1.min(), xx1.max())\n",
    "    plt.ylim(xx2.min(), xx2.max())\n",
    "    # plot class samples\n",
    "    # 2 times loop\n",
    "    for idx, cl in enumerate(np.unique(y)):\n",
    "        matches = np.where(y==cl)\n",
    "        plt.scatter(x=X[matches[0], 0], y=X[matches[0], 1], alpha=0.8, c=colors[idx],\n",
    "            marker=markers[idx],label=cl, edgecolor='black')"
   ]
  },
  {
   "cell_type": "code",
   "execution_count": 99,
   "id": "involved-evening",
   "metadata": {},
   "outputs": [
    {
     "data": {
      "image/png": "[encoded data removed]",
      "text/plain": [
       "<Figure size 576x360 with 1 Axes>"
      ]
     },
     "metadata": {
      "needs_background": "light"
     },
     "output_type": "display_data"
    }
   ],
   "source": [
    "plt.figure(figsize=(8,5))\n",
    "plot_decision_regions(X, y, classifier=perceptron, resolution=0.01)\n",
    "plt.xlabel('sepal length [cm]')\n",
    "plt.ylabel('petal length [cm]')\n",
    "plt.legend(loc='upper left');"
   ]
  },
  {
   "cell_type": "markdown",
   "id": "raised-hawaii",
   "metadata": {},
   "source": [
    "### Evolution of desition boundaries\n",
    "In a for loop that will run 'n' times we will do the following:  \n",
    "- We will train the model 'Iterator_n' times\n",
    "- We will save the output in a folder"
   ]
  },
  {
   "cell_type": "code",
   "execution_count": 103,
   "id": "intermediate-tours",
   "metadata": {},
   "outputs": [],
   "source": [
    "perceptron2 = Perceptron()\n",
    "for i in range(10):\n",
    "    # Training perceptron 'i' times\n",
    "    perceptron2.train(X,y,i,0.2)\n",
    "    # Setting figure size\n",
    "    fig = plt.figure(figsize=(12,8))\n",
    "    # Creating decision plot for the model\n",
    "    plot_decision_regions(X, y, classifier=perceptron2, resolution=0.01)\n",
    "    plt.xlabel('sepal length [cm]')\n",
    "    plt.ylabel('petal length [cm]')\n",
    "    plt.legend(loc='upper left')\n",
    "    fname =  'plot/' + \"{:03d}\".format(i)\n",
    "    plt.savefig(fname, dpi=75, transparent=False, format='jpg')\n",
    "    # Closing figure in order not to display it\n",
    "    plt.close(fig)"
   ]
  }
 ],
 "metadata": {
  "kernelspec": {
   "display_name": "Python 3",
   "language": "python",
   "name": "python3"
  },
  "language_info": {
   "codemirror_mode": {
    "name": "ipython",
    "version": 3
   },
   "file_extension": ".py",
   "mimetype": "text/x-python",
   "name": "python",
   "nbconvert_exporter": "python",
   "pygments_lexer": "ipython3",
   "version": "3.8.5"
  }
 },
 "nbformat": 4,
 "nbformat_minor": 5
}
